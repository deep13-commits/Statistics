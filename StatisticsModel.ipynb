{
 "cells": [
  {
   "cell_type": "code",
   "execution_count": 1,
   "id": "ac4c3476",
   "metadata": {},
   "outputs": [],
   "source": [
    "import numpy as np\n",
    "import pandas as pd\n",
    "import matplotlib.pyplot as plt\n",
    "import seaborn  as sb"
   ]
  },
  {
   "cell_type": "code",
   "execution_count": 2,
   "id": "8d3ec49e",
   "metadata": {},
   "outputs": [],
   "source": [
    "df = pd.read_excel('big_mac.xlsx') "
   ]
  },
  {
   "cell_type": "code",
   "execution_count": 3,
   "id": "c6f86238",
   "metadata": {},
   "outputs": [
    {
     "data": {
      "text/html": [
       "<div>\n",
       "<style scoped>\n",
       "    .dataframe tbody tr th:only-of-type {\n",
       "        vertical-align: middle;\n",
       "    }\n",
       "\n",
       "    .dataframe tbody tr th {\n",
       "        vertical-align: top;\n",
       "    }\n",
       "\n",
       "    .dataframe thead th {\n",
       "        text-align: right;\n",
       "    }\n",
       "</style>\n",
       "<table border=\"1\" class=\"dataframe\">\n",
       "  <thead>\n",
       "    <tr style=\"text-align: right;\">\n",
       "      <th></th>\n",
       "      <th>big_mac_price</th>\n",
       "      <th>hourly_wages_usd</th>\n",
       "    </tr>\n",
       "  </thead>\n",
       "  <tbody>\n",
       "    <tr>\n",
       "      <th>0</th>\n",
       "      <td>1.42</td>\n",
       "      <td>1.70</td>\n",
       "    </tr>\n",
       "    <tr>\n",
       "      <th>1</th>\n",
       "      <td>1.86</td>\n",
       "      <td>7.80</td>\n",
       "    </tr>\n",
       "    <tr>\n",
       "      <th>2</th>\n",
       "      <td>1.48</td>\n",
       "      <td>2.05</td>\n",
       "    </tr>\n",
       "    <tr>\n",
       "      <th>3</th>\n",
       "      <td>3.14</td>\n",
       "      <td>12.30</td>\n",
       "    </tr>\n",
       "    <tr>\n",
       "      <th>4</th>\n",
       "      <td>2.21</td>\n",
       "      <td>9.35</td>\n",
       "    </tr>\n",
       "  </tbody>\n",
       "</table>\n",
       "</div>"
      ],
      "text/plain": [
       "   big_mac_price  hourly_wages_usd\n",
       "0           1.42              1.70\n",
       "1           1.86              7.80\n",
       "2           1.48              2.05\n",
       "3           3.14             12.30\n",
       "4           2.21              9.35"
      ]
     },
     "execution_count": 3,
     "metadata": {},
     "output_type": "execute_result"
    }
   ],
   "source": [
    "df.head()"
   ]
  },
  {
   "cell_type": "code",
   "execution_count": 4,
   "id": "a4ccc4fd",
   "metadata": {},
   "outputs": [
    {
     "data": {
      "image/png": "[encoded data removed]",
      "text/plain": [
       "<Figure size 500x500 with 1 Axes>"
      ]
     },
     "metadata": {},
     "output_type": "display_data"
    }
   ],
   "source": [
    "#using seaborn to visualize data, use scatterplot\n",
    "sb.relplot(x='big_mac_price',y='hourly_wages_usd',data=df)\n",
    "plt.show()"
   ]
  },
  {
   "cell_type": "code",
   "execution_count": 5,
   "id": "4e931bd3",
   "metadata": {},
   "outputs": [],
   "source": [
    "#Building linear regression model\n",
    "import statsmodels.api as sm"
   ]
  },
  {
   "cell_type": "code",
   "execution_count": 6,
   "id": "d23d67f2",
   "metadata": {},
   "outputs": [],
   "source": [
    "model = sm.OLS.from_formula('hourly_wages_usd~big_mac_price',data=df)"
   ]
  },
  {
   "cell_type": "code",
   "execution_count": 7,
   "id": "865e0f2e",
   "metadata": {},
   "outputs": [],
   "source": [
    "result = model.fit()"
   ]
  },
  {
   "cell_type": "code",
   "execution_count": 8,
   "id": "cb77e74b",
   "metadata": {},
   "outputs": [
    {
     "data": {
      "text/html": [
       "<table class=\"simpletable\">\n",
       "<caption>OLS Regression Results</caption>\n",
       "<tr>\n",
       "  <th>Dep. Variable:</th>    <td>hourly_wages_usd</td> <th>  R-squared:         </th> <td>   0.662</td>\n",
       "</tr>\n",
       "<tr>\n",
       "  <th>Model:</th>                   <td>OLS</td>       <th>  Adj. R-squared:    </th> <td>   0.648</td>\n",
       "</tr>\n",
       "<tr>\n",
       "  <th>Method:</th>             <td>Least Squares</td>  <th>  F-statistic:       </th> <td>   48.88</td>\n",
       "</tr>\n",
       "<tr>\n",
       "  <th>Date:</th>             <td>Fri, 09 Dec 2022</td> <th>  Prob (F-statistic):</th> <td>2.50e-07</td>\n",
       "</tr>\n",
       "<tr>\n",
       "  <th>Time:</th>                 <td>01:37:56</td>     <th>  Log-Likelihood:    </th> <td> -66.251</td>\n",
       "</tr>\n",
       "<tr>\n",
       "  <th>No. Observations:</th>      <td>    27</td>      <th>  AIC:               </th> <td>   136.5</td>\n",
       "</tr>\n",
       "<tr>\n",
       "  <th>Df Residuals:</th>          <td>    25</td>      <th>  BIC:               </th> <td>   139.1</td>\n",
       "</tr>\n",
       "<tr>\n",
       "  <th>Df Model:</th>              <td>     1</td>      <th>                     </th>     <td> </td>   \n",
       "</tr>\n",
       "<tr>\n",
       "  <th>Covariance Type:</th>      <td>nonrobust</td>    <th>                     </th>     <td> </td>   \n",
       "</tr>\n",
       "</table>\n",
       "<table class=\"simpletable\">\n",
       "<tr>\n",
       "        <td></td>           <th>coef</th>     <th>std err</th>      <th>t</th>      <th>P>|t|</th>  <th>[0.025</th>    <th>0.975]</th>  \n",
       "</tr>\n",
       "<tr>\n",
       "  <th>Intercept</th>     <td>   -4.5397</td> <td>    1.619</td> <td>   -2.805</td> <td> 0.010</td> <td>   -7.873</td> <td>   -1.206</td>\n",
       "</tr>\n",
       "<tr>\n",
       "  <th>big_mac_price</th> <td>    4.7435</td> <td>    0.678</td> <td>    6.991</td> <td> 0.000</td> <td>    3.346</td> <td>    6.141</td>\n",
       "</tr>\n",
       "</table>\n",
       "<table class=\"simpletable\">\n",
       "<tr>\n",
       "  <th>Omnibus:</th>       <td> 5.597</td> <th>  Durbin-Watson:     </th> <td>   2.151</td>\n",
       "</tr>\n",
       "<tr>\n",
       "  <th>Prob(Omnibus):</th> <td> 0.061</td> <th>  Jarque-Bera (JB):  </th> <td>   3.761</td>\n",
       "</tr>\n",
       "<tr>\n",
       "  <th>Skew:</th>          <td> 0.829</td> <th>  Prob(JB):          </th> <td>   0.153</td>\n",
       "</tr>\n",
       "<tr>\n",
       "  <th>Kurtosis:</th>      <td> 3.771</td> <th>  Cond. No.          </th> <td>    7.94</td>\n",
       "</tr>\n",
       "</table><br/><br/>Notes:<br/>[1] Standard Errors assume that the covariance matrix of the errors is correctly specified."
      ],
      "text/plain": [
       "<class 'statsmodels.iolib.summary.Summary'>\n",
       "\"\"\"\n",
       "                            OLS Regression Results                            \n",
       "==============================================================================\n",
       "Dep. Variable:       hourly_wages_usd   R-squared:                       0.662\n",
       "Model:                            OLS   Adj. R-squared:                  0.648\n",
       "Method:                 Least Squares   F-statistic:                     48.88\n",
       "Date:                Fri, 09 Dec 2022   Prob (F-statistic):           2.50e-07\n",
       "Time:                        01:37:56   Log-Likelihood:                -66.251\n",
       "No. Observations:                  27   AIC:                             136.5\n",
       "Df Residuals:                      25   BIC:                             139.1\n",
       "Df Model:                           1                                         \n",
       "Covariance Type:            nonrobust                                         \n",
       "=================================================================================\n",
       "                    coef    std err          t      P>|t|      [0.025      0.975]\n",
       "---------------------------------------------------------------------------------\n",
       "Intercept        -4.5397      1.619     -2.805      0.010      -7.873      -1.206\n",
       "big_mac_price     4.7435      0.678      6.991      0.000       3.346       6.141\n",
       "==============================================================================\n",
       "Omnibus:                        5.597   Durbin-Watson:                   2.151\n",
       "Prob(Omnibus):                  0.061   Jarque-Bera (JB):                3.761\n",
       "Skew:                           0.829   Prob(JB):                        0.153\n",
       "Kurtosis:                       3.771   Cond. No.                         7.94\n",
       "==============================================================================\n",
       "\n",
       "Notes:\n",
       "[1] Standard Errors assume that the covariance matrix of the errors is correctly specified.\n",
       "\"\"\""
      ]
     },
     "execution_count": 8,
     "metadata": {},
     "output_type": "execute_result"
    }
   ],
   "source": [
    "result.summary()"
   ]
  },
  {
   "cell_type": "code",
   "execution_count": 9,
   "id": "4dc06c34",
   "metadata": {},
   "outputs": [],
   "source": [
    "# n= number of samples, k=number of independent features, degree of freedom = n-1-k = 25\n",
    "# Hypothesis testing : t-test\n",
    "# p value - 0.010 < 0.025 (with 95% confidence interval)\n",
    "# p value - 0.00 < 0.025 ------> Hence, H0 is False and H1 is True"
   ]
  },
  {
   "cell_type": "code",
   "execution_count": 10,
   "id": "78076e9d",
   "metadata": {},
   "outputs": [],
   "source": [
    "fitted_values = -4.5397 + 4.7435 * df['big_mac_price']"
   ]
  },
  {
   "cell_type": "code",
   "execution_count": 11,
   "id": "46f46d99",
   "metadata": {},
   "outputs": [
    {
     "data": {
      "image/png": "[encoded data removed]",
      "text/plain": [
       "<Figure size 500x500 with 1 Axes>"
      ]
     },
     "metadata": {},
     "output_type": "display_data"
    }
   ],
   "source": [
    "sb.relplot(x='big_mac_price',y='hourly_wages_usd',data=df)\n",
    "plt.plot(df['big_mac_price'],fitted_values,'g-')\n",
    "plt.show()"
   ]
  },
  {
   "cell_type": "code",
   "execution_count": 12,
   "id": "80bd8451",
   "metadata": {},
   "outputs": [],
   "source": [
    "#ANOVA - Analysis of Variance - Are the variance of fitted and true (actual) values are equal\n",
    "# F statistics - F value is 48.88 and corresponding p-value is Prob (F-statistic):\t2.50e-07 < 0.025 \n",
    "# F value will test for variance. \n",
    "# Are the variance of fitted and true values are equal? -- Yes\n",
    "# this indicates significance of the model"
   ]
  },
  {
   "cell_type": "code",
   "execution_count": 13,
   "id": "bb1c4e0e",
   "metadata": {},
   "outputs": [],
   "source": [
    "# calculate F-statistics manually, ssr = variance of fitted values, sse - varinace of \n",
    "ssr = np.sum(np.square(fitted_values - fitted_values.mean()))\n",
    "sse = np.sum(np.square(fitted_values - df['hourly_wages_usd'].values))"
   ]
  },
  {
   "cell_type": "code",
   "execution_count": 14,
   "id": "f434187e",
   "metadata": {},
   "outputs": [
    {
     "data": {
      "text/plain": [
       "(418.1817241247, 213.88429646337502)"
      ]
     },
     "execution_count": 14,
     "metadata": {},
     "output_type": "execute_result"
    }
   ],
   "source": [
    "ssr, sse"
   ]
  },
  {
   "cell_type": "code",
   "execution_count": 15,
   "id": "49e5f697",
   "metadata": {},
   "outputs": [],
   "source": [
    "df_ssr = 1 # k (no. of independent features)\n",
    "df_sse = 27 - 1 - df_ssr"
   ]
  },
  {
   "cell_type": "code",
   "execution_count": 16,
   "id": "46fb48d2",
   "metadata": {},
   "outputs": [
    {
     "data": {
      "text/plain": [
       "48.879432833479235"
      ]
     },
     "execution_count": 16,
     "metadata": {},
     "output_type": "execute_result"
    }
   ],
   "source": [
    "F_stats = (ssr/df_ssr)/(sse/df_sse)\n",
    "F_stats"
   ]
  },
  {
   "cell_type": "code",
   "execution_count": 17,
   "id": "557fd0b0",
   "metadata": {},
   "outputs": [
    {
     "name": "stdout",
     "output_type": "stream",
     "text": [
      "R Square Value = 0.6616108294124452\n"
     ]
    }
   ],
   "source": [
    "# R -squared value\n",
    "sst = sse+ ssr \n",
    "\n",
    "r_square = 1 - (sse/sst)\n",
    "print('R Square Value =',r_square)"
   ]
  },
  {
   "cell_type": "code",
   "execution_count": 18,
   "id": "6d67dcaa",
   "metadata": {},
   "outputs": [
    {
     "data": {
      "text/html": [
       "<div>\n",
       "<style scoped>\n",
       "    .dataframe tbody tr th:only-of-type {\n",
       "        vertical-align: middle;\n",
       "    }\n",
       "\n",
       "    .dataframe tbody tr th {\n",
       "        vertical-align: top;\n",
       "    }\n",
       "\n",
       "    .dataframe thead th {\n",
       "        text-align: right;\n",
       "    }\n",
       "</style>\n",
       "<table border=\"1\" class=\"dataframe\">\n",
       "  <thead>\n",
       "    <tr style=\"text-align: right;\">\n",
       "      <th></th>\n",
       "      <th>big_mac_price</th>\n",
       "      <th>hourly_wages_usd</th>\n",
       "    </tr>\n",
       "  </thead>\n",
       "  <tbody>\n",
       "    <tr>\n",
       "      <th>big_mac_price</th>\n",
       "      <td>1.000000</td>\n",
       "      <td>0.813396</td>\n",
       "    </tr>\n",
       "    <tr>\n",
       "      <th>hourly_wages_usd</th>\n",
       "      <td>0.813396</td>\n",
       "      <td>1.000000</td>\n",
       "    </tr>\n",
       "  </tbody>\n",
       "</table>\n",
       "</div>"
      ],
      "text/plain": [
       "                  big_mac_price  hourly_wages_usd\n",
       "big_mac_price          1.000000          0.813396\n",
       "hourly_wages_usd       0.813396          1.000000"
      ]
     },
     "execution_count": 18,
     "metadata": {},
     "output_type": "execute_result"
    }
   ],
   "source": [
    "# correlation (r)\n",
    "df.corr()"
   ]
  },
  {
   "cell_type": "code",
   "execution_count": null,
   "id": "929bf684",
   "metadata": {},
   "outputs": [],
   "source": []
  }
 ],
 "metadata": {
  "kernelspec": {
   "display_name": "Python 3 (ipykernel)",
   "language": "python",
   "name": "python3"
  },
  "language_info": {
   "codemirror_mode": {
    "name": "ipython",
    "version": 3
   },
   "file_extension": ".py",
   "mimetype": "text/x-python",
   "name": "python",
   "nbconvert_exporter": "python",
   "pygments_lexer": "ipython3",
   "version": "3.10.8"
  }
 },
 "nbformat": 4,
 "nbformat_minor": 5
}
